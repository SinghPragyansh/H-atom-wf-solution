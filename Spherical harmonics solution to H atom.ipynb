{
 "cells": [
  {
   "cell_type": "code",
   "execution_count": 1,
   "id": "3da0e9b8",
   "metadata": {},
   "outputs": [],
   "source": [
    "import numpy as np\n",
    "import scipy as sc\n",
    "from scipy.special import sph_harm, lpmv, legendre\n",
    "import math\n",
    "import matplotlib.pyplot as plt\n",
    "import scipy.integrate as sci\n",
    "\n",
    "import matplotlib.gridspec as gridspec\n",
    "# The following import configures Matplotlib for 3D plotting.\n",
    "from mpl_toolkits.mplot3d import Axes3D\n",
    "plt.rc('text', usetex=True)"
   ]
  },
  {
   "cell_type": "code",
   "execution_count": 2,
   "id": "09bf9b7e",
   "metadata": {},
   "outputs": [],
   "source": [
    "def norm(wf, r_grid, theta_grid, phi_grid):\n",
    "        prob_den = abs(wf)**2\n",
    "        integrand = prob_den*(r_grid**2)*np.sin(phi_grid)\n",
    "        integration = sci.simps(sci.simps(sci.simps(integrand, r_grid), theta_grid), phi_grid)\n",
    "        norm = 1/np.sqrt(integration)\n",
    "        return norm"
   ]
  },
  {
   "cell_type": "code",
   "execution_count": 3,
   "id": "50eb9146",
   "metadata": {},
   "outputs": [],
   "source": [
    "def plot_sph_harm(l,m,theta_grid, phi_grid):\n",
    "    theta, phi = np.meshgrid(theta_grid, phi_grid)\n",
    "    # Calculate the Cartesian coordinates of each point in the mesh.\n",
    "    xyz = np.array([np.sin(phi) * np.sin(theta),\n",
    "                    np.sin(phi) * np.cos(theta),\n",
    "                    np.cos(phi)])\n",
    "\n",
    "    def plot_Y(ax, el, m):\n",
    "            \"\"\"Plot the spherical harmonic of degree el and order m on Axes ax.\"\"\"\n",
    "\n",
    "            Y = spherical_harmonics(l,m,theta, phi)\n",
    "            \n",
    "            Yx, Yy, Yz = np.abs(Y) * xyz\n",
    "\n",
    "            # Colour the plotted surface according to the sign of Y.\n",
    "            cmap = plt.cm.ScalarMappable(cmap=plt.get_cmap('PRGn'))\n",
    "            cmap.set_clim(-0.5, 0.5)\n",
    "\n",
    "            ax.plot_surface(Yx, Yy, Yz,\n",
    "                            facecolors=cmap.to_rgba(Y.real),\n",
    "                            rstride=2, cstride=2)\n",
    "\n",
    "            # Draw a set of x, y, z axes for reference.\n",
    "            ax_lim = 0.5\n",
    "            ax.plot([-ax_lim, ax_lim], [0,0], [0,0], c='0.5', lw=1, zorder=10)\n",
    "            ax.plot([0,0], [-ax_lim, ax_lim], [0,0], c='0.5', lw=1, zorder=10)\n",
    "            ax.plot([0,0], [0,0], [-ax_lim, ax_lim], c='0.5', lw=1, zorder=10)\n",
    "            # Set the Axes limits and title, turn off the Axes frame.\n",
    "            ax.set_title(r'$Y_{{{},{}}}$'.format(el, m))\n",
    "            ax_lim = 0.5\n",
    "            ax.set_xlim(-ax_lim, ax_lim)\n",
    "            ax.set_ylim(-ax_lim, ax_lim)\n",
    "            ax.set_zlim(-ax_lim, ax_lim)\n",
    "            ax.axis('off')\n",
    "\n",
    "    fig = plt.figure(figsize=plt.figaspect(1.))\n",
    "    ax = fig.add_subplot(projection='3d')\n",
    "    plot_Y(ax, l, m)\n",
    "    plt.savefig('Y{}_{}.png'.format(l, m))\n",
    "    plt.show()"
   ]
  },
  {
   "cell_type": "code",
   "execution_count": 4,
   "id": "e518070d",
   "metadata": {},
   "outputs": [],
   "source": [
    "# The theta and phi are exchanged due to \"scipy.special.sph_harm implementation\"\n",
    "def spherical_harmonics(l, m, theta, phi):\n",
    "    \"\"\"Calculate spherical harmonics Y(l, m) for given angles.\"\"\"\n",
    "    Y = sph_harm(abs(m), l, theta, phi)\n",
    "    # Linear combination of Y_l,m and Y_l,-m to create the real form.\n",
    "    if m < 0:\n",
    "        Y = np.sqrt(2) * (-1)**m * Y.imag\n",
    "    elif m > 0:\n",
    "        Y = np.sqrt(2) * (-1)**m * Y.real\n",
    "    else:\n",
    "        Y = sph_harm(0,l,theta,phi)\n",
    "    return Y"
   ]
  },
  {
   "cell_type": "code",
   "execution_count": 5,
   "id": "f6b05e9c",
   "metadata": {},
   "outputs": [
    {
     "data": {
      "image/png": "[encoded data removed]",
      "text/plain": [
       "<Figure size 345.6x345.6 with 1 Axes>"
      ]
     },
     "metadata": {
      "needs_background": "light"
     },
     "output_type": "display_data"
    }
   ],
   "source": [
    "# The theta and phi are exchanged due to \"scipy.special.sph_harm implementation\"\n",
    "a0 = 1  # Bohr radius in atomic unit\n",
    "n = 3\n",
    "l = 2\n",
    "m = 0\n",
    "r_grid = np.linspace(0, 10, 1000)\n",
    "theta_grid = np.linspace(0,2*np.pi,1000)    # thousand points in between 0 to 2*pi\n",
    "phi_grid = np.linspace(0,np.pi, 1000)\n",
    "plot_sph_harm(l,m,theta_grid, phi_grid)"
   ]
  }
 ],
 "metadata": {
  "kernelspec": {
   "display_name": "Python 3",
   "language": "python",
   "name": "python3"
  },
  "language_info": {
   "codemirror_mode": {
    "name": "ipython",
    "version": 3
   },
   "file_extension": ".py",
   "mimetype": "text/x-python",
   "name": "python",
   "nbconvert_exporter": "python",
   "pygments_lexer": "ipython3",
   "version": "3.8.8"
  }
 },
 "nbformat": 4,
 "nbformat_minor": 5
}
